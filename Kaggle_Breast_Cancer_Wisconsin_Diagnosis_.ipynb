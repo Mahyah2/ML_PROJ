{
  "nbformat": 4,
  "nbformat_minor": 0,
  "metadata": {
    "colab": {
      "provenance": [],
      "authorship_tag": "ABX9TyPqRP113KwlyHjJovqvJ8SX",
      "include_colab_link": true
    },
    "kernelspec": {
      "name": "python3",
      "display_name": "Python 3"
    },
    "language_info": {
      "name": "python"
    }
  },
  "cells": [
    {
      "cell_type": "markdown",
      "metadata": {
        "id": "view-in-github",
        "colab_type": "text"
      },
      "source": [
        "<a href=\"https://colab.research.google.com/github/Mahyah2/ML_PROJ/blob/main/Kaggle_Breast_Cancer_Wisconsin_Diagnosis_.ipynb\" target=\"_parent\"><img src=\"https://colab.research.google.com/assets/colab-badge.svg\" alt=\"Open In Colab\"/></a>"
      ]
    },
    {
      "cell_type": "markdown",
      "source": [
        "\n",
        "\n",
        "---ML | Kaggle Breast Cancer Wisconsin Diagnosis using Logistic Regression\n",
        "\n"
      ],
      "metadata": {
        "id": "L_JiE6cnPBrU"
      }
    },
    {
      "cell_type": "code",
      "source": [
        "# Importing the NumPy library for performing linear algebra operations,\n",
        "# such as matrix manipulations and numerical computations.\n",
        "import numpy as np\n",
        "\n",
        "# Importing the Pandas library for data processing,\n",
        "# including data manipulation, cleaning, and analysis.\n",
        "import pandas as pd\n",
        "\n",
        "# Importing Matplotlib's Pyplot module for data visualization,\n",
        "# enabling the creation of graphs and plots.\n",
        "import matplotlib.pyplot as plt\n"
      ],
      "metadata": {
        "id": "IxK8ACO9PFpE"
      },
      "execution_count": 4,
      "outputs": []
    },
    {
      "cell_type": "code",
      "source": [
        "data = pd.read_csv(\"data.csv\")\n",
        "\n",
        "print (data.head)\n"
      ],
      "metadata": {
        "colab": {
          "base_uri": "https://localhost:8080/"
        },
        "id": "95S0g1sXQSus",
        "outputId": "1b0fc1d9-ecc8-4db6-dd33-e8c4b2ad6db2"
      },
      "execution_count": 5,
      "outputs": [
        {
          "output_type": "stream",
          "name": "stdout",
          "text": [
            "<bound method NDFrame.head of            id diagnosis  radius_mean  texture_mean  perimeter_mean  area_mean  \\\n",
            "0      842302         M        17.99         10.38          122.80     1001.0   \n",
            "1      842517         M        20.57         17.77          132.90     1326.0   \n",
            "2    84300903         M        19.69         21.25          130.00     1203.0   \n",
            "3    84348301         M        11.42         20.38           77.58      386.1   \n",
            "4    84358402         M        20.29         14.34          135.10     1297.0   \n",
            "..        ...       ...          ...           ...             ...        ...   \n",
            "564    926424         M        21.56         22.39          142.00     1479.0   \n",
            "565    926682         M        20.13         28.25          131.20     1261.0   \n",
            "566    926954         M        16.60         28.08          108.30      858.1   \n",
            "567    927241         M        20.60         29.33          140.10     1265.0   \n",
            "568     92751         B         7.76         24.54           47.92      181.0   \n",
            "\n",
            "     smoothness_mean  compactness_mean  concavity_mean  concave points_mean  \\\n",
            "0            0.11840           0.27760         0.30010              0.14710   \n",
            "1            0.08474           0.07864         0.08690              0.07017   \n",
            "2            0.10960           0.15990         0.19740              0.12790   \n",
            "3            0.14250           0.28390         0.24140              0.10520   \n",
            "4            0.10030           0.13280         0.19800              0.10430   \n",
            "..               ...               ...             ...                  ...   \n",
            "564          0.11100           0.11590         0.24390              0.13890   \n",
            "565          0.09780           0.10340         0.14400              0.09791   \n",
            "566          0.08455           0.10230         0.09251              0.05302   \n",
            "567          0.11780           0.27700         0.35140              0.15200   \n",
            "568          0.05263           0.04362         0.00000              0.00000   \n",
            "\n",
            "     ...  texture_worst  perimeter_worst  area_worst  smoothness_worst  \\\n",
            "0    ...          17.33           184.60      2019.0           0.16220   \n",
            "1    ...          23.41           158.80      1956.0           0.12380   \n",
            "2    ...          25.53           152.50      1709.0           0.14440   \n",
            "3    ...          26.50            98.87       567.7           0.20980   \n",
            "4    ...          16.67           152.20      1575.0           0.13740   \n",
            "..   ...            ...              ...         ...               ...   \n",
            "564  ...          26.40           166.10      2027.0           0.14100   \n",
            "565  ...          38.25           155.00      1731.0           0.11660   \n",
            "566  ...          34.12           126.70      1124.0           0.11390   \n",
            "567  ...          39.42           184.60      1821.0           0.16500   \n",
            "568  ...          30.37            59.16       268.6           0.08996   \n",
            "\n",
            "     compactness_worst  concavity_worst  concave points_worst  symmetry_worst  \\\n",
            "0              0.66560           0.7119                0.2654          0.4601   \n",
            "1              0.18660           0.2416                0.1860          0.2750   \n",
            "2              0.42450           0.4504                0.2430          0.3613   \n",
            "3              0.86630           0.6869                0.2575          0.6638   \n",
            "4              0.20500           0.4000                0.1625          0.2364   \n",
            "..                 ...              ...                   ...             ...   \n",
            "564            0.21130           0.4107                0.2216          0.2060   \n",
            "565            0.19220           0.3215                0.1628          0.2572   \n",
            "566            0.30940           0.3403                0.1418          0.2218   \n",
            "567            0.86810           0.9387                0.2650          0.4087   \n",
            "568            0.06444           0.0000                0.0000          0.2871   \n",
            "\n",
            "     fractal_dimension_worst  Unnamed: 32  \n",
            "0                    0.11890          NaN  \n",
            "1                    0.08902          NaN  \n",
            "2                    0.08758          NaN  \n",
            "3                    0.17300          NaN  \n",
            "4                    0.07678          NaN  \n",
            "..                       ...          ...  \n",
            "564                  0.07115          NaN  \n",
            "565                  0.06637          NaN  \n",
            "566                  0.07820          NaN  \n",
            "567                  0.12400          NaN  \n",
            "568                  0.07039          NaN  \n",
            "\n",
            "[569 rows x 33 columns]>\n"
          ]
        }
      ]
    },
    {
      "cell_type": "code",
      "source": [
        "data.info()\n",
        "#This helps to know the structure of the data set\n"
      ],
      "metadata": {
        "colab": {
          "base_uri": "https://localhost:8080/"
        },
        "id": "Bvg8nAh5Qnfs",
        "outputId": "d2d4feba-23cf-4136-c33e-b6b39a5aead9"
      },
      "execution_count": 6,
      "outputs": [
        {
          "output_type": "stream",
          "name": "stdout",
          "text": [
            "<class 'pandas.core.frame.DataFrame'>\n",
            "RangeIndex: 569 entries, 0 to 568\n",
            "Data columns (total 33 columns):\n",
            " #   Column                   Non-Null Count  Dtype  \n",
            "---  ------                   --------------  -----  \n",
            " 0   id                       569 non-null    int64  \n",
            " 1   diagnosis                569 non-null    object \n",
            " 2   radius_mean              569 non-null    float64\n",
            " 3   texture_mean             569 non-null    float64\n",
            " 4   perimeter_mean           569 non-null    float64\n",
            " 5   area_mean                569 non-null    float64\n",
            " 6   smoothness_mean          569 non-null    float64\n",
            " 7   compactness_mean         569 non-null    float64\n",
            " 8   concavity_mean           569 non-null    float64\n",
            " 9   concave points_mean      569 non-null    float64\n",
            " 10  symmetry_mean            569 non-null    float64\n",
            " 11  fractal_dimension_mean   569 non-null    float64\n",
            " 12  radius_se                569 non-null    float64\n",
            " 13  texture_se               569 non-null    float64\n",
            " 14  perimeter_se             569 non-null    float64\n",
            " 15  area_se                  569 non-null    float64\n",
            " 16  smoothness_se            569 non-null    float64\n",
            " 17  compactness_se           569 non-null    float64\n",
            " 18  concavity_se             569 non-null    float64\n",
            " 19  concave points_se        569 non-null    float64\n",
            " 20  symmetry_se              569 non-null    float64\n",
            " 21  fractal_dimension_se     569 non-null    float64\n",
            " 22  radius_worst             569 non-null    float64\n",
            " 23  texture_worst            569 non-null    float64\n",
            " 24  perimeter_worst          569 non-null    float64\n",
            " 25  area_worst               569 non-null    float64\n",
            " 26  smoothness_worst         569 non-null    float64\n",
            " 27  compactness_worst        569 non-null    float64\n",
            " 28  concavity_worst          569 non-null    float64\n",
            " 29  concave points_worst     569 non-null    float64\n",
            " 30  symmetry_worst           569 non-null    float64\n",
            " 31  fractal_dimension_worst  569 non-null    float64\n",
            " 32  Unnamed: 32              0 non-null      float64\n",
            "dtypes: float64(31), int64(1), object(1)\n",
            "memory usage: 146.8+ KB\n"
          ]
        }
      ]
    },
    {
      "cell_type": "code",
      "source": [
        "# Dropping unnecessary columns ('Unnamed: 32' and 'id') from the dataset.\n",
        "# 'axis=1' specifies that we are removing columns (not rows).\n",
        "data.drop(['Unnamed: 32', 'id'], axis=1)\n",
        "\n",
        "# Encoding the 'diagnosis' column:\n",
        "# If the value is \"M\" (Malignant), it is replaced with 1.\n",
        "# If the value is \"B\" (Benign), it is replaced with 0.\n",
        "# This converts categorical values into numerical ones for machine learning models.\n",
        "data.diagnosis = [1 if each == \"M\" else 0 for each in data.diagnosis]\n"
      ],
      "metadata": {
        "id": "mXKKR3fIQysT"
      },
      "execution_count": 7,
      "outputs": []
    },
    {
      "cell_type": "code",
      "source": [
        "# Extracting the target variable (labels) from the dataset.\n",
        "# 'y' will contain the diagnosis values as a NumPy array.\n",
        "# It holds 1 for Malignant and 0 for Benign cases.\n",
        "y = data.diagnosis.values\n",
        "\n",
        "# Creating the feature set (independent variables) by dropping the 'diagnosis' column.\n",
        "# 'x_data' will now contain all other columns except 'diagnosis',\n",
        "# which will be used as input features for the model.\n",
        "x_data = data.drop(['diagnosis'], axis=1)\n"
      ],
      "metadata": {
        "id": "7HVSGGjdTR7d"
      },
      "execution_count": 8,
      "outputs": []
    },
    {
      "cell_type": "code",
      "source": [
        "# Normalizing the feature set using Min-Max Scaling.\n",
        "# This scales all feature values to a range between 0 and 1.\n",
        "# Formula: (X - X_min) / (X_max - X_min)\n",
        "x = (x_data - np.min( x_data)) / (np.max(x_data) - np.min(x_data))"
      ],
      "metadata": {
        "id": "8PPrcfaaTW4s"
      },
      "execution_count": 9,
      "outputs": []
    },
    {
      "cell_type": "code",
      "source": [
        "# Importing train_test_split from scikit-learn to split the dataset into training and testing sets.\n",
        "from sklearn.model_selection import train_test_split\n",
        "\n",
        "# Splitting the dataset into training (85%) and testing (15%) sets.\n",
        "# 'test_size=0.15' means 15% of the data will be used for testing.\n",
        "# 'random_state=42' ensures reproducibility of the split.\n",
        "x_train, x_test, y_train, y_test = train_test_split(\n",
        "    x, y, test_size=0.15, random_state=42\n",
        ")\n",
        "\n",
        "# Transposing the matrices to match the expected input shape for certain ML models.\n",
        "# This converts rows into columns and vice versa.\n",
        "x_train = x_train.T\n",
        "x_test = x_test.T\n",
        "y_train = y_train.T\n",
        "y_test = y_test.T\n",
        "\n",
        "# Printing the shapes of the training and testing sets to confirm the split.\n",
        "print(\"x train: \", x_train.shape)  # Shape of training features\n",
        "print(\"x test: \", x_test.shape)    # Shape of testing features\n",
        "print(\"y train: \", y_train.shape)  # Shape of training labels\n",
        "print(\"y test: \", y_test.shape)    # Shape of testing labels\n"
      ],
      "metadata": {
        "colab": {
          "base_uri": "https://localhost:8080/"
        },
        "id": "fqlbspFYTuD8",
        "outputId": "15cdf5a2-8478-4ae3-fc4b-d788562e98b2"
      },
      "execution_count": 10,
      "outputs": [
        {
          "output_type": "stream",
          "name": "stdout",
          "text": [
            "x train:  (32, 483)\n",
            "x test:  (32, 86)\n",
            "y train:  (483,)\n",
            "y test:  (86,)\n"
          ]
        }
      ]
    },
    {
      "cell_type": "code",
      "source": [
        "# WEIGHT AND BIAS\n",
        "\n",
        "def initialize_weights_and_bias(dimension):\n",
        "    # Initializing weights (w) as a column vector filled with small values (0.01).\n",
        "    # Using small but non-zero values helps break symmetry during training.\n",
        "    w = np.full((dimension, 1), 0.01)\n",
        "\n",
        "    # Initializing bias (b) to 0.0.\n",
        "    b = 0.0\n",
        "\n",
        "    return w, b  # Returning the initialized weight matrix and bias term.\n"
      ],
      "metadata": {
        "id": "dM5UACNPYlq2"
      },
      "execution_count": 11,
      "outputs": []
    },
    {
      "cell_type": "code",
      "source": [
        "# SIGMOID FUNCTION - CALCULATING Z VALUE\n",
        "\n",
        "# Computing the linear transformation:\n",
        "# z = np.dot(w.T, x_train) + b\n",
        "# This represents the weighted sum of inputs plus the bias term.\n",
        "\n",
        "def sigmoid(z):\n",
        "    # Applying the sigmoid function to transform 'z' into a probability value.\n",
        "    y_head = 1 / (1 + np.exp(-z))\n",
        "\n",
        "    return y_head  # Returning the computed sigmoid output.\n"
      ],
      "metadata": {
        "id": "bJUdIocDaM_N"
      },
      "execution_count": 12,
      "outputs": []
    },
    {
      "cell_type": "code",
      "source": [
        "# FORWARD - BACKWARD PROPAGATION\n",
        "\n",
        "def forward_backward_propagation(w, b, x_train, y_train):\n",
        "\n",
        "    # Forward Propagation:\n",
        "    # Compute the linear transformation: z = w^T * x_train + b\n",
        "    z = np.dot(w.T, x_train) + b\n",
        "\n",
        "    # Apply the sigmoid function to obtain predicted probabilities (y_head)\n",
        "    y_head = sigmoid(z)\n",
        "\n",
        "    # Compute the logistic regression loss function:\n",
        "    # Loss = -[y_train * log(y_head) + (1 - y_train) * log(1 - y_head)]\n",
        "    loss = - y_train * np.log(y_head) - (1 - y_train) * np.log(1 - y_head)\n",
        "\n",
        "    # Compute the cost (average loss over all training samples)\n",
        "    cost = np.sum(loss) / x_train.shape[1]\n",
        "\n",
        "    # Backward Propagation:\n",
        "    # Compute the gradient of the weights (partial derivative of cost w.r.t. w)\n",
        "    derivative_weight = np.dot(x_train, (y_head - y_train).T) / x_train.shape[1]\n",
        "\n",
        "    # Compute the gradient of the bias (partial derivative of cost w.r.t. b)\n",
        "    derivative_bias = np.sum(y_head - y_train) / x_train.shape[1]\n",
        "\n",
        "    # Store the computed gradients in a dictionary\n",
        "    gradients = {\n",
        "        \"derivative_weight\": derivative_weight,\n",
        "        \"derivative_bias\": derivative_bias\n",
        "    }\n",
        "\n",
        "    return cost, gradients  # Return the cost and computed gradients\n"
      ],
      "metadata": {
        "id": "gIrFcrFKcn81"
      },
      "execution_count": 13,
      "outputs": []
    },
    {
      "cell_type": "code",
      "source": [
        "#UPDATING PARAMETERS\n",
        "\n",
        "\n",
        "def update(w, b, x_train, y_train, learning_rate, number_of_iteration):\n",
        "\n",
        "    cost_list = []  # Stores cost values for every iteration\n",
        "    cost_list2 = []  # Stores cost values at intervals for plotting\n",
        "    index = []  # Stores iteration indices for plotting\n",
        "\n",
        "    # Perform gradient descent for a given number of iterations\n",
        "    for i in range(number_of_iteration):\n",
        "        # Compute cost and gradients using forward and backward propagation\n",
        "        cost, gradients = forward_backward_propagation(w, b, x_train, y_train)\n",
        "        cost_list.append(cost)  # Store cost value\n",
        "\n",
        "        # Update weights using gradient descent formula\n",
        "        w = w - learning_rate * gradients[\"derivative_weight\"]\n",
        "\n",
        "        # Update bias using gradient descent formula\n",
        "        b = b - learning_rate * gradients[\"derivative_bias\"]\n",
        "\n",
        "        # Every 10 iterations, store cost for visualization\n",
        "        if i % 10 == 0:\n",
        "            cost_list2.append(cost)\n",
        "            index.append(i)\n",
        "            print(\"Cost after iteration %i: %f\" % (i, cost))  # Print cost at intervals\n",
        "\n",
        "    # Store updated parameters in a dictionary\n",
        "    parameters = {\"weight\": w, \"bias\": b}\n",
        "\n",
        "    # Plot cost reduction over iterations\n",
        "    plt.plot(index, cost_list2)  # Plot cost at recorded intervals\n",
        "    plt.xticks(index, rotation='vertical')  # Rotate x-axis labels for readability\n",
        "    plt.xlabel(\"Number of Iterations\")  # Label x-axis\n",
        "    plt.ylabel(\"Cost\")  # Label y-axis\n",
        "    plt.show()  # Display plot\n",
        "\n",
        "    return parameters, gradients, cost_list  # Return updated parameters, final gradients, and cost history\n"
      ],
      "metadata": {
        "id": "4ErjUzqGeuTK"
      },
      "execution_count": 14,
      "outputs": []
    },
    {
      "cell_type": "code",
      "source": [
        "# PREDICTIONS\n",
        "\n",
        "def predict(w, b, x_test):\n",
        "\n",
        "\n",
        "    # Compute the linear transformation: z = w^T * x_test + b\n",
        "    z = sigmoid(np.dot(w.T, x_test) + b)  # Apply sigmoid to get probabilities\n",
        "\n",
        "    # Initialize an array of zeros for storing predicted labels\n",
        "    Y_prediction = np.zeros((1, x_test.shape[1]))\n",
        "\n",
        "    # Convert probabilities to binary labels (0 or 1)\n",
        "    # If probability is greater than 0.5, classify as 1 (positive class)\n",
        "    # Otherwise, classify as 0 (negative class)\n",
        "    for i in range(z.shape[1]):\n",
        "        if z[0, i] <= 0.5:\n",
        "            Y_prediction[0, i] = 0\n",
        "        else:\n",
        "            Y_prediction[0, i] = 1\n",
        "\n",
        "    return Y_prediction  # Return predicted labels\n"
      ],
      "metadata": {
        "id": "kFzL2PnHfjRx"
      },
      "execution_count": 15,
      "outputs": []
    },
    {
      "cell_type": "code",
      "source": [
        "def logistic_regression(x_train, y_train, x_test, y_test,\n",
        "                        learning_rate, num_iterations):\n",
        "\n",
        "    # Initialize weights and bias\n",
        "    dimension = x_train.shape[0]\n",
        "    w, b = initialize_weights_and_bias(dimension)\n",
        "\n",
        "    # Train the model\n",
        "    parameters, _, _ = update(w, b, x_train, y_train, learning_rate, num_iterations)\n",
        "\n",
        "    # Make predictions\n",
        "    y_prediction_train = predict(parameters[\"weight\"], parameters[\"bias\"], x_train)\n",
        "    y_prediction_test = predict(parameters[\"weight\"], parameters[\"bias\"], x_test)\n",
        "\n",
        "    # Compute accuracies\n",
        "    train_accuracy = 100 - np.mean(np.abs(y_prediction_train - y_train)) * 100\n",
        "    test_accuracy = 100 - np.mean(np.abs(y_prediction_test - y_test)) * 100\n",
        "\n",
        "    print(f\"\\nTrain Accuracy: {train_accuracy:.2f} %\")\n",
        "    print(f\"Test Accuracy: {test_accuracy:.2f} %\")\n",
        "\n",
        "# Run logistic regression\n",
        "logistic_regression(x_train, y_train, x_test,\n",
        "                    y_test, learning_rate=1, num_iterations=100)\n"
      ],
      "metadata": {
        "colab": {
          "base_uri": "https://localhost:8080/",
          "height": 690
        },
        "id": "of9lPPIn31IO",
        "outputId": "fe74e90a-8286-4b6d-b50b-3817e491bf5e"
      },
      "execution_count": 31,
      "outputs": [
        {
          "output_type": "stream",
          "name": "stdout",
          "text": [
            "Cost after iteration 0: 0.693154\n",
            "Cost after iteration 10: 0.660391\n",
            "Cost after iteration 20: 0.660133\n",
            "Cost after iteration 30: 0.660019\n",
            "Cost after iteration 40: 0.659917\n",
            "Cost after iteration 50: 0.659824\n",
            "Cost after iteration 60: 0.659739\n",
            "Cost after iteration 70: 0.659663\n",
            "Cost after iteration 80: 0.659593\n",
            "Cost after iteration 90: 0.659530\n"
          ]
        },
        {
          "output_type": "display_data",
          "data": {
            "text/plain": [
              "<Figure size 640x480 with 1 Axes>"
            ],
            "image/png": "[encoded data removed]"
          },
          "metadata": {}
        },
        {
          "output_type": "stream",
          "name": "stdout",
          "text": [
            "\n",
            "Train Accuracy: 62.73 %\n",
            "Test Accuracy: 37.21 %\n"
          ]
        }
      ]
    },
    {
      "cell_type": "code",
      "source": [
        "from sklearn.impute import SimpleImputer  # Importing SimpleImputer for handling missing values\n",
        "from sklearn import linear_model  # Importing linear_model for logistic regression\n",
        "\n",
        "# Create an imputer to replace NaN values with the mean of each column\n",
        "imputer = SimpleImputer(strategy='mean')\n",
        "\n",
        "# Fit the imputer on the training data and transform both training and test data\n",
        "# Transpose (T) is used to preserve the original structure after transformation\n",
        "x_train = imputer.fit_transform(x_train.T).T  # Fit & transform training data\n",
        "x_test = imputer.transform(x_test.T).T  # Transform test data using the same imputer\n",
        "\n",
        "# Initialize the logistic regression model with a random seed and maximum iterations\n",
        "logreg = linear_model.LogisticRegression(random_state=42, max_iter=150)\n",
        "\n",
        "# Train the model on the training data and evaluate its accuracy on the test set\n",
        "print(\"test accuracy: {} \".format(\n",
        "    logreg.fit(x_train.T, y_train.T).score(x_test.T, y_test.T)))\n",
        "\n",
        "# Train the model again on the training data and evaluate its accuracy on the training set\n",
        "print(\"train accuracy: {} \".format(\n",
        "    logreg.fit(x_train.T, y_train.T).score(x_train.T, y_train.T)))\n",
        "\n",
        "\n"
      ],
      "metadata": {
        "colab": {
          "base_uri": "https://localhost:8080/"
        },
        "id": "BkAyLNbs9zEa",
        "outputId": "55656aa7-89fe-4e7e-efd1-ab81b6708062"
      },
      "execution_count": 32,
      "outputs": [
        {
          "output_type": "stream",
          "name": "stdout",
          "text": [
            "test accuracy: 0.6162790697674418 \n",
            "train accuracy: 0.6314699792960663 \n"
          ]
        },
        {
          "output_type": "stream",
          "name": "stderr",
          "text": [
            "/usr/local/lib/python3.11/dist-packages/sklearn/utils/validation.py:2732: UserWarning: X has feature names, but SimpleImputer was fitted without feature names\n",
            "  warnings.warn(\n"
          ]
        }
      ]
    }
  ]
}